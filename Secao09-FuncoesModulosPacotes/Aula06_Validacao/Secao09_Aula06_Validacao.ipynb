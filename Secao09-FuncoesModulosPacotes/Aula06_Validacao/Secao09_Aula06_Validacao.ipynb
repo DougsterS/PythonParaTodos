{
 "cells": [
  {
   "cell_type": "markdown",
   "metadata": {},
   "source": [
    "# Funções, Módulos e Pacotes"
   ]
  },
  {
   "cell_type": "markdown",
   "metadata": {},
   "source": [
    "## Validação de entrada de dados"
   ]
  },
  {
   "attachments": {},
   "cell_type": "raw",
   "metadata": {},
   "source": [
    "Podemos utilizar funções para criar uma infinidade de coisas, uma das coisas para a qual podemos criar funções é para validar a entrada de dados do usuário, reduzindo assim, possíveis erros no sistema.\n",
    "\n",
    "Imagine que você tenha que validar uma entrada de dados específica, em vez de ficar sempre escrevendo o código de validação, você pode criar uma função e chamá-la sempre que necessário.\n",
    "\n",
    "Vamos ao primeiro exemplo. Vamos supor que você precise solicitar que o usuário informe um número inteiro dentro de uma faixa. Você pode criar uma função que receberá os três números e fará esta validação."
   ]
  },
  {
   "cell_type": "code",
   "execution_count": 1,
   "metadata": {},
   "outputs": [
    {
     "name": "stdout",
     "output_type": "stream",
     "text": [
      "Informe um número inteiro entre 1 e 10: a\n",
      "Número inválido! Informe um número inteiro entre 1 e 10.\n",
      "Informe um número inteiro entre 1 e 10: 15\n",
      "Valor inválido! Informe um número inteiro entre 1 e 10.\n",
      "Informe um número inteiro entre 1 e 10: 1\n"
     ]
    }
   ],
   "source": [
    "def validar_faixa(numero, inicio, fim):\n",
    "    if numero.isdigit():\n",
    "        if int(numero) < int(inicio) or int(numero) > int(fim):\n",
    "            print(f\"Valor inválido! Informe um número inteiro entre {inicio} e {fim}.\")\n",
    "        else:\n",
    "            return True\n",
    "    else:\n",
    "        print(f\"Número inválido! Informe um número inteiro entre {inicio} e {fim}.\")\n",
    "\n",
    "while True:\n",
    "    resposta = input(\"Informe um número inteiro entre 1 e 10: \")\n",
    "    if validar_faixa(resposta, 1, 10):\n",
    "        break"
   ]
  },
  {
   "cell_type": "raw",
   "metadata": {},
   "source": [
    "No segundo exemplo vamos validar um limite máximo de caracteres de um texto informado pelo usuário."
   ]
  },
  {
   "cell_type": "code",
   "execution_count": 2,
   "metadata": {},
   "outputs": [
    {
     "name": "stdout",
     "output_type": "stream",
     "text": [
      "Informe um texto de no máximo 20 caracteres: teste de tamanho de texto\n",
      "O texto deve conter no máximo 20 caracteres!\n",
      "Informe um texto de no máximo 20 caracteres: a\n"
     ]
    }
   ],
   "source": [
    "def validar_tamanho(texto, maximo):\n",
    "    if len(texto) > maximo:\n",
    "        print(f\"O texto deve conter no máximo {maximo} caracteres!\")\n",
    "    else:\n",
    "        return True\n",
    "\n",
    "while True:\n",
    "    texto = input(\"Informe um texto de no máximo 20 caracteres: \")\n",
    "    if validar_tamanho(texto, 20):\n",
    "        break"
   ]
  },
  {
   "cell_type": "raw",
   "metadata": {},
   "source": [
    "No terceiro exemplo vamos validar a entrada do usuário com base em uma lista fornecida verificando se o texto informado está contido na lista."
   ]
  },
  {
   "cell_type": "code",
   "execution_count": 3,
   "metadata": {},
   "outputs": [
    {
     "name": "stdout",
     "output_type": "stream",
     "text": [
      "Informe um meio de transporte: casa\n",
      "Opção inválida, veja as opções disponíveis:\n",
      "CARRO\n",
      "NAVIO\n",
      "ÔNIBUS\n",
      "AVIÃO\n",
      "Informe um meio de transporte: carro\n"
     ]
    }
   ],
   "source": [
    "def valida_elementos(texto, lista):\n",
    "    if texto.upper() in lista:\n",
    "        return True\n",
    "    else:\n",
    "        print(\"Opção inválida, veja as opções disponíveis:\")\n",
    "        for item in lista:\n",
    "            print(item)\n",
    "\n",
    "while True:\n",
    "    lista = [\"CARRO\", \"NAVIO\", \"ÔNIBUS\", \"AVIÃO\"]\n",
    "    resposta = input(\"Informe um meio de transporte: \")\n",
    "    if valida_elementos(resposta, lista):\n",
    "        break"
   ]
  }
 ],
 "metadata": {
  "kernelspec": {
   "display_name": "Python 3",
   "language": "python",
   "name": "python3"
  },
  "language_info": {
   "codemirror_mode": {
    "name": "ipython",
    "version": 3
   },
   "file_extension": ".py",
   "mimetype": "text/x-python",
   "name": "python",
   "nbconvert_exporter": "python",
   "pygments_lexer": "ipython3",
   "version": "3.6.5"
  }
 },
 "nbformat": 4,
 "nbformat_minor": 2
}
