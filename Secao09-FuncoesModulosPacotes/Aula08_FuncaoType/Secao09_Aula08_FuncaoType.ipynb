{
 "cells": [
  {
   "cell_type": "markdown",
   "metadata": {},
   "source": [
    "# Funções, Módulos e Pacotes"
   ]
  },
  {
   "cell_type": "markdown",
   "metadata": {},
   "source": [
    "## Função Type"
   ]
  },
  {
   "cell_type": "raw",
   "metadata": {},
   "source": [
    "A função type retorna o tipo de uma variável, função ou objeto."
   ]
  },
  {
   "cell_type": "code",
   "execution_count": 4,
   "metadata": {},
   "outputs": [
    {
     "data": {
      "text/plain": [
       "int"
      ]
     },
     "execution_count": 4,
     "metadata": {},
     "output_type": "execute_result"
    }
   ],
   "source": [
    "a = 10\n",
    "type(a)"
   ]
  },
  {
   "cell_type": "code",
   "execution_count": 5,
   "metadata": {},
   "outputs": [
    {
     "data": {
      "text/plain": [
       "str"
      ]
     },
     "execution_count": 5,
     "metadata": {},
     "output_type": "execute_result"
    }
   ],
   "source": [
    "b = \"Olá Mundo!\"\n",
    "type(b)"
   ]
  },
  {
   "cell_type": "code",
   "execution_count": 6,
   "metadata": {},
   "outputs": [
    {
     "data": {
      "text/plain": [
       "builtin_function_or_method"
      ]
     },
     "execution_count": 6,
     "metadata": {},
     "output_type": "execute_result"
    }
   ],
   "source": [
    "type(print)"
   ]
  },
  {
   "cell_type": "code",
   "execution_count": 7,
   "metadata": {},
   "outputs": [
    {
     "data": {
      "text/plain": [
       "bool"
      ]
     },
     "execution_count": 7,
     "metadata": {},
     "output_type": "execute_result"
    }
   ],
   "source": [
    "type(True)"
   ]
  },
  {
   "cell_type": "code",
   "execution_count": 8,
   "metadata": {},
   "outputs": [
    {
     "data": {
      "text/plain": [
       "list"
      ]
     },
     "execution_count": 8,
     "metadata": {},
     "output_type": "execute_result"
    }
   ],
   "source": [
    "lista = [1,2,3,4]\n",
    "type(lista)"
   ]
  },
  {
   "cell_type": "code",
   "execution_count": 9,
   "metadata": {},
   "outputs": [
    {
     "data": {
      "text/plain": [
       "float"
      ]
     },
     "execution_count": 9,
     "metadata": {},
     "output_type": "execute_result"
    }
   ],
   "source": [
    "type(15.4)"
   ]
  },
  {
   "cell_type": "code",
   "execution_count": 10,
   "metadata": {},
   "outputs": [
    {
     "data": {
      "text/plain": [
       "dict"
      ]
     },
     "execution_count": 10,
     "metadata": {},
     "output_type": "execute_result"
    }
   ],
   "source": [
    "dict = {\"a\":1,'b':2,\"c\":3}\n",
    "type(dict)"
   ]
  },
  {
   "cell_type": "code",
   "execution_count": 11,
   "metadata": {},
   "outputs": [
    {
     "data": {
      "text/plain": [
       "function"
      ]
     },
     "execution_count": 11,
     "metadata": {},
     "output_type": "execute_result"
    }
   ],
   "source": [
    "def funcao():\n",
    "    return True\n",
    "\n",
    "type(funcao)"
   ]
  },
  {
   "cell_type": "raw",
   "metadata": {},
   "source": [
    "Vamos criar um programa onde vamos validar os itens de uma lista para tomar uma determinada decisão conforme o tipo do elemento."
   ]
  },
  {
   "cell_type": "code",
   "execution_count": 19,
   "metadata": {},
   "outputs": [
    {
     "name": "stdout",
     "output_type": "stream",
     "text": [
      "<class 'int'>\n",
      "{'a': 1, 'b': 2, 'c': 3}\n",
      "<class 'int'>\n",
      "{'a': 1, 'b': 2, 'c': 3}\n",
      "<class 'int'>\n",
      "{'a': 1, 'b': 2, 'c': 3}\n",
      "<class 'str'>\n",
      "{'a': 1, 'b': 2, 'c': 3}\n",
      "<class 'str'>\n",
      "{'a': 1, 'b': 2, 'c': 3}\n",
      "<class 'list'>\n",
      "{'a': 1, 'b': 2, 'c': 3}\n",
      "<class 'str'>\n",
      "{'a': 1, 'b': 2, 'c': 3}\n",
      "<class 'list'>\n",
      "{'a': 1, 'b': 2, 'c': 3}\n",
      "<class 'dict'>\n",
      "{'a': 1, 'b': 2, 'c': 3}\n",
      "Tipo não reconhecido!\n",
      "<class 'str'>\n",
      "{'a': 1, 'b': 2, 'c': 3}\n",
      "<class 'dict'>\n",
      "{'a': 1, 'b': 2, 'c': 3}\n",
      "Tipo não reconhecido!\n",
      "Foram encontrados 3 inteiros. A soma dos números inteiros é: 95\n",
      "Foram encontradas 4 strings. Veja as strings:\n",
      "Python\n",
      "Olá\n",
      "Mundo\n",
      "Teste\n",
      "Foram encontradas 2 listas. Veja os itens das listas:\n",
      "1, 2, 3, a, b, c\n"
     ]
    }
   ],
   "source": [
    "def validar_itens(lista):\n",
    "    soma_inteiros = 0\n",
    "    qtd_inteiros = 0\n",
    "    lista_str = []\n",
    "    lista_list = []\n",
    "    lista_dict = []\n",
    "    for item in lista:\n",
    "        if type(item) == int:\n",
    "            soma_inteiros += item\n",
    "            qtd_inteiros += 1\n",
    "        elif type(item) == str:\n",
    "            lista_str.append(item)\n",
    "        elif type(item) == list:\n",
    "            lista_list.append(item)\n",
    "        elif type(item) == dict:\n",
    "            lista_dict.append(item)\n",
    "        else:\n",
    "            print(\"Tipo não reconhecido!\")\n",
    "\n",
    "    if soma_inteiros > 0:\n",
    "        print(f\"Foram encontrados {qtd_inteiros} inteiros. A soma dos números inteiros é: {soma_inteiros}\")\n",
    "\n",
    "    if len(lista_str) > 0:\n",
    "        print(f\"Foram encontradas {len(lista_str)} strings. Veja as strings:\")\n",
    "        for i in lista_str:\n",
    "            print(i)\n",
    "\n",
    "    if len(lista_list) > 0:\n",
    "        retorno = \"\"\n",
    "        print(f\"Foram encontradas {len(lista_list)} listas. Veja os itens das listas:\")\n",
    "        for lista in lista_list:\n",
    "            for item in lista:\n",
    "                retorno = retorno + str(item) + \", \"\n",
    "        print(retorno[0:-2])\n",
    "\n",
    "    if len(lista_dict) > 0:\n",
    "        print(f\"Foram encontrados {len(lista_dict)} dicionários. Veja os itens:\")\n",
    "        for dic in lista_dict:\n",
    "            print(f\"Chaves: {dic.keys()}\")\n",
    "            print(f\"Valores: {dic.values()}\")\n",
    "\n",
    "lista = [10, 43, 42, \"Python\", \"Olá\", [1,2,3], \"Mundo\", [\"a\",\"b\",\"c\"],\n",
    "         {\"Item 1\":25, \"Item 2\": 65}, \"Teste\", {\"key1\":\"Valor1\",\"key2\":\"Valor2\"}]\n",
    "\n",
    "validar_itens(lista)"
   ]
  },
  {
   "cell_type": "code",
   "execution_count": null,
   "metadata": {},
   "outputs": [],
   "source": []
  }
 ],
 "metadata": {
  "kernelspec": {
   "display_name": "Python 3",
   "language": "python",
   "name": "python3"
  },
  "language_info": {
   "codemirror_mode": {
    "name": "ipython",
    "version": 3
   },
   "file_extension": ".py",
   "mimetype": "text/x-python",
   "name": "python",
   "nbconvert_exporter": "python",
   "pygments_lexer": "ipython3",
   "version": "3.6.5"
  }
 },
 "nbformat": 4,
 "nbformat_minor": 2
}
