{
 "cells": [
  {
   "cell_type": "markdown",
   "metadata": {},
   "source": [
    "# Conceitos básicos"
   ]
  },
  {
   "cell_type": "markdown",
   "metadata": {},
   "source": [
    "## Objetos"
   ]
  },
  {
   "cell_type": "raw",
   "metadata": {},
   "source": [
    "Python é uma linguagem orientada a objeto.\n",
    "As estruturas de dados possuem atributos e métodos.\n",
    "Os atributos e métodos de um objeto são acessados utilizando o ponto “.”.\n",
    "Para mostrar um atributo de um objeto usamos “objeto.atributo”.\n",
    "Para executar um método usamos “objeto.método(argumentos)” ou “objeto.método()”.\n",
    "Mesmo métodos sem argumentos precisam dos parênteses."
   ]
  }
 ],
 "metadata": {
  "kernelspec": {
   "display_name": "Python 3",
   "language": "python",
   "name": "python3"
  },
  "language_info": {
   "codemirror_mode": {
    "name": "ipython",
    "version": 3
   },
   "file_extension": ".py",
   "mimetype": "text/x-python",
   "name": "python",
   "nbconvert_exporter": "python",
   "pygments_lexer": "ipython3",
   "version": "3.6.5"
  }
 },
 "nbformat": 4,
 "nbformat_minor": 2
}
