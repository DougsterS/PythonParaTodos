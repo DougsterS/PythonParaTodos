{
 "cells": [
  {
   "cell_type": "markdown",
   "metadata": {},
   "source": [
    "# Conceitos básicos"
   ]
  },
  {
   "cell_type": "markdown",
   "metadata": {},
   "source": [
    "## Comentários de código"
   ]
  },
  {
   "cell_type": "raw",
   "metadata": {},
   "source": [
    "São textos ignorados pelos interpretadores ou compiladores.\n",
    "\n",
    "Para definir uma linha inteira como comentário você deve usar o caractere “#”."
   ]
  },
  {
   "cell_type": "code",
   "execution_count": 1,
   "metadata": {},
   "outputs": [
    {
     "name": "stdout",
     "output_type": "stream",
     "text": [
      "Teste\n"
     ]
    }
   ],
   "source": [
    "# Esta linha é ignorada, é um comentário\n",
    "print(\"Teste\")"
   ]
  },
  {
   "cell_type": "code",
   "execution_count": 3,
   "metadata": {},
   "outputs": [
    {
     "data": {
      "text/plain": [
       "10"
      ]
     },
     "execution_count": 3,
     "metadata": {},
     "output_type": "execute_result"
    }
   ],
   "source": [
    "# Mais uma linha ignorada pelo interpretador Python\n",
    "5 + 5"
   ]
  },
  {
   "cell_type": "raw",
   "metadata": {},
   "source": [
    "Para comentar várias linhas não é necessário colocar um “#” em cada uma das linhas. Para isso usamos três aspas como delimitador “““ ou ‘’’.\n",
    "As três aspas são as docstrings que são usadas para documentar o código.\n",
    "Este curso tem uma seção sobre documentação."
   ]
  },
  {
   "cell_type": "code",
   "execution_count": 4,
   "metadata": {},
   "outputs": [
    {
     "name": "stdout",
     "output_type": "stream",
     "text": [
      "X é igual a 10\n"
     ]
    }
   ],
   "source": [
    "x = 10\n",
    "if (x == 10):\n",
    "    \"\"\"\n",
    "    Este texto é um comentário\n",
    "    feito em várias linhas\n",
    "    \"\"\"\n",
    "    print(\"X é igual a 10\")"
   ]
  },
  {
   "cell_type": "code",
   "execution_count": null,
   "metadata": {},
   "outputs": [],
   "source": []
  }
 ],
 "metadata": {
  "kernelspec": {
   "display_name": "Python 3",
   "language": "python",
   "name": "python3"
  },
  "language_info": {
   "codemirror_mode": {
    "name": "ipython",
    "version": 3
   },
   "file_extension": ".py",
   "mimetype": "text/x-python",
   "name": "python",
   "nbconvert_exporter": "python",
   "pygments_lexer": "ipython3",
   "version": "3.6.5"
  }
 },
 "nbformat": 4,
 "nbformat_minor": 2
}
