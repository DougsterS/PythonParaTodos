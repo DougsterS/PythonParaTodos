{
 "cells": [
  {
   "cell_type": "markdown",
   "metadata": {},
   "source": [
    "# Conceitos básicos"
   ]
  },
  {
   "cell_type": "markdown",
   "metadata": {},
   "source": [
    "## Blocos de Código"
   ]
  },
  {
   "cell_type": "raw",
   "metadata": {},
   "source": [
    "•\tBlocos de código são delimitados pelo uso de indentação.\n",
    "•\tA indentação deve ser constante no bloco de código.\n",
    "•\tÉ uma boa prática não misturar tabulação com espaços.\n",
    "•\tUsar quatro espaços para indentação é uma convenção amplamente aceita, além de ser uma recomendação oficial (http://python.org/dev/peps/pep-0008).\n",
    "•\tO caractere de dois pontos “:” determina a linha anterior a um bloco. Representa uma estrutura de controle da linguagem ou a declaração de uma nova estrutura (uma função, por exemplo).\n",
    "•\tSe você não indentar corretamente seu código o mesmo não será executado."
   ]
  },
  {
   "cell_type": "markdown",
   "metadata": {},
   "source": [
    "![Blocos de Código](imagens/blocos01.png)"
   ]
  },
  {
   "cell_type": "markdown",
   "metadata": {},
   "source": [
    "![Blocos de Código](imagens/blocos02.png)"
   ]
  },
  {
   "cell_type": "code",
   "execution_count": null,
   "metadata": {},
   "outputs": [],
   "source": []
  }
 ],
 "metadata": {
  "kernelspec": {
   "display_name": "Python 3",
   "language": "python",
   "name": "python3"
  },
  "language_info": {
   "codemirror_mode": {
    "name": "ipython",
    "version": 3
   },
   "file_extension": ".py",
   "mimetype": "text/x-python",
   "name": "python",
   "nbconvert_exporter": "python",
   "pygments_lexer": "ipython3",
   "version": "3.6.5"
  }
 },
 "nbformat": 4,
 "nbformat_minor": 2
}
