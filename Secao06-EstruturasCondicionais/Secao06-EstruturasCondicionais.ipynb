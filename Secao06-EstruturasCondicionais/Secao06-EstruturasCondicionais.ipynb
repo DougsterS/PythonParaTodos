{
 "cells": [
  {
   "cell_type": "markdown",
   "metadata": {},
   "source": [
    "# CURSO PYTHON PARA TODOS"
   ]
  },
  {
   "cell_type": "raw",
   "metadata": {},
   "source": [
    "https://www.udemy.com/python-3-para-todos"
   ]
  },
  {
   "cell_type": "raw",
   "metadata": {},
   "source": [
    "Evaldo Wolkers"
   ]
  },
  {
   "cell_type": "markdown",
   "metadata": {},
   "source": [
    "## Estruturas Condicionais"
   ]
  },
  {
   "cell_type": "raw",
   "metadata": {},
   "source": [
    "•\tEstruturas condicionais servem para que o sistema decida se vai ou não executar uma parte do código.\n",
    "•\tPodem ser usadas sempre que você precisar desviar o fluxo de execução do sistema de acordo com uma condição."
   ]
  },
  {
   "cell_type": "markdown",
   "metadata": {},
   "source": [
    "![Imagem1](imagens/Imagem01.png)"
   ]
  },
  {
   "cell_type": "markdown",
   "metadata": {},
   "source": [
    "![Imagem2](imagens/Imagem02.png)"
   ]
  },
  {
   "cell_type": "markdown",
   "metadata": {},
   "source": [
    "### SE => IF"
   ]
  },
  {
   "cell_type": "markdown",
   "metadata": {},
   "source": [
    "![Imagem3](imagens/Imagem03.png)"
   ]
  },
  {
   "cell_type": "markdown",
   "metadata": {},
   "source": [
    "![Imagem4](imagens/Imagem04.png)"
   ]
  },
  {
   "cell_type": "code",
   "execution_count": 1,
   "metadata": {},
   "outputs": [
    {
     "name": "stdout",
     "output_type": "stream",
     "text": [
      "Informe a média: 7\n",
      "Aprovado\n"
     ]
    }
   ],
   "source": [
    "media = float(input(\"Informe a média: \"))\n",
    "if media > 5:\n",
    "    print(\"Aprovado\")"
   ]
  },
  {
   "cell_type": "markdown",
   "metadata": {},
   "source": [
    "### ELSE => OUTRO, “SENÃO”, CASO CONTRÁRIO."
   ]
  },
  {
   "cell_type": "markdown",
   "metadata": {},
   "source": [
    "![Imagem5](imagens/Imagem05.png)"
   ]
  },
  {
   "cell_type": "markdown",
   "metadata": {},
   "source": [
    "![Imagem6](imagens/Imagem06.png)"
   ]
  },
  {
   "cell_type": "markdown",
   "metadata": {},
   "source": [
    "![Imagem7](imagens/Imagem07.png)"
   ]
  },
  {
   "cell_type": "code",
   "execution_count": 2,
   "metadata": {},
   "outputs": [
    {
     "name": "stdout",
     "output_type": "stream",
     "text": [
      "Informe a média: 8\n",
      "Aprovado\n"
     ]
    }
   ],
   "source": [
    "media = float(input(\"Informe a média: \"))\n",
    "if media > 5:\n",
    "    print(\"Aprovado\")\n",
    "else:\n",
    "    print(\"Reprovado\")"
   ]
  },
  {
   "cell_type": "markdown",
   "metadata": {},
   "source": [
    "### SENÃO SE => ELIF"
   ]
  },
  {
   "cell_type": "markdown",
   "metadata": {},
   "source": [
    "![Imagem8](imagens/Imagem08.png)"
   ]
  },
  {
   "cell_type": "markdown",
   "metadata": {},
   "source": [
    "![Imagem9](imagens/Imagem09.png)"
   ]
  },
  {
   "cell_type": "markdown",
   "metadata": {},
   "source": [
    "![Imagem10](imagens/Imagem10.png)"
   ]
  },
  {
   "cell_type": "markdown",
   "metadata": {},
   "source": [
    "![Imagem11](imagens/Imagem11.png)"
   ]
  },
  {
   "cell_type": "code",
   "execution_count": 3,
   "metadata": {},
   "outputs": [
    {
     "name": "stdout",
     "output_type": "stream",
     "text": [
      "Informe a média: 10\n",
      "Aprovado\n"
     ]
    }
   ],
   "source": [
    "media = float(input(\"Informe a média: \"))\n",
    "if media > 7:\n",
    "    print(\"Aprovado\")\n",
    "elif media < 5:\n",
    "    print(\"Reprovado\")\n",
    "else:\n",
    "    print(\"Recuperação\")"
   ]
  },
  {
   "cell_type": "markdown",
   "metadata": {},
   "source": [
    "### Exemplo Tabela do INSS 2017"
   ]
  },
  {
   "cell_type": "code",
   "execution_count": 4,
   "metadata": {},
   "outputs": [
    {
     "name": "stdout",
     "output_type": "stream",
     "text": [
      "**************** TABELA INSS 2017 ********************\n",
      "* Salário de Contribuição (R$)    - Alíquota do INSS *\n",
      "* até 1.659,38                    -        8%        *\n",
      "* de 1.659,39 até 2.765,66        -        9%        *\n",
      "* de 2.765,67 até 5.531,31 (teto) -        11%       *\n",
      "******************************************************\n",
      "Informe o salário de contribuição: 950\n",
      "O salário contribuição é: 950.00.\n",
      "A alíquota de INSS é de: 8.0%.\n",
      "Será descontado R$ 76.00 de INSS.\n",
      "Descontando o INSS você receberá R$ 874.00.\n"
     ]
    }
   ],
   "source": [
    "print(\"**************** TABELA INSS 2017 ********************\")\n",
    "print(\"* Salário de Contribuição (R$)    - Alíquota do INSS *\")\n",
    "print(\"* até 1.659,38                    -        8%        *\")\n",
    "print(\"* de 1.659,39 até 2.765,66        -        9%        *\")\n",
    "print(\"* de 2.765,67 até 5.531,31 (teto) -        11%       *\")\n",
    "print(\"******************************************************\")\n",
    "\n",
    "salario_informado = float(input(\"Informe o salário de contribuição: \"))\n",
    "salario_contribuicao = salario_informado\n",
    "if (salario_contribuicao <= 1659.38):\n",
    "    aliquota_inss = 8\n",
    "elif (salario_contribuicao <= 2765.66 ):\n",
    "    aliquota_inss = 9\n",
    "elif (salario_contribuicao <= 5531.31):\n",
    "    aliquota_inss = 11\n",
    "else:\n",
    "    salario_contribuicao = 5531.31\n",
    "    aliquota_inss = 11\n",
    "\n",
    "valor_inss = (salario_contribuicao * (aliquota_inss/100))\n",
    "salario_liquido = salario_informado - valor_inss\n",
    "\n",
    "print(f\"O salário contribuição é: {salario_contribuicao:.2f}.\\n\"\n",
    "      f\"A alíquota de INSS é de: {aliquota_inss:.1f}%.\\n\"\n",
    "      f\"Será descontado R$ {valor_inss:.2f} de INSS.\\n\"\n",
    "      f\"Descontando o INSS você receberá R$ {salario_liquido:.2f}.\")"
   ]
  },
  {
   "cell_type": "markdown",
   "metadata": {},
   "source": [
    "### Exemplo Autorização de compra"
   ]
  },
  {
   "cell_type": "code",
   "execution_count": 5,
   "metadata": {},
   "outputs": [
    {
     "name": "stdout",
     "output_type": "stream",
     "text": [
      "Informe o valor da compra: 100\n",
      "Sua compra foi autorizada.\n",
      "Valor da compra: R$ 100.00\n",
      "Seu saldo atualizado é: 474.44\n"
     ]
    }
   ],
   "source": [
    "limite_credito = 900\n",
    "total_compras = 325.56\n",
    "saldo_disponivel = limite_credito - total_compras\n",
    "valor_compra = float(input(\"Informe o valor da compra: \"))\n",
    "if valor_compra <= saldo_disponivel:\n",
    "    saldo_disponivel = saldo_disponivel - valor_compra\n",
    "    print(\"Sua compra foi autorizada.\\n\"\n",
    "          f\"Valor da compra: R$ {valor_compra:.2f}\\n\"\n",
    "          f\"Seu saldo atualizado é: {saldo_disponivel:.2f}\")\n",
    "else:\n",
    "    print(\"Sua compra não foi autorizada.\\n\"\n",
    "          \"Saldo insuficiente.\\n\"\n",
    "          f\"Saldo disponível: R$ {saldo_disponivel:.2f}\")"
   ]
  },
  {
   "cell_type": "markdown",
   "metadata": {},
   "source": [
    "### Exemplo Multa"
   ]
  },
  {
   "cell_type": "code",
   "execution_count": 6,
   "metadata": {},
   "outputs": [
    {
     "name": "stdout",
     "output_type": "stream",
     "text": [
      "Informe a velocidade permitida na via: 60\n",
      "Informe a velocidade que você passou no radar: 150\n",
      "Você foi multado e perdeu 7 pontos.\n",
      "Você teve a carteira suspensa.\n",
      "O valor de sua multa é: R$ 880.41\n",
      "Motivo: Transitar em velocidade superior a 50% da máxima permitida\n"
     ]
    }
   ],
   "source": [
    "velocidade_permitida = int(input(\"Informe a velocidade permitida \"\n",
    "                                 \"na via: \"))\n",
    "velocidade_veiculo = int(input(\"Informe a velocidade que você \"\n",
    "                               \"passou no radar: \"))\n",
    "\n",
    "if velocidade_veiculo > velocidade_permitida:\n",
    "    if velocidade_veiculo >= velocidade_permitida + (velocidade_permitida * (50/100)):\n",
    "        valor_multa = 880.41\n",
    "        pontos = 7\n",
    "        suspensao = True\n",
    "        descricao_multa = \"Transitar em velocidade superior a \" \\\n",
    "                          \"50% da máxima permitida\"\n",
    "    elif velocidade_veiculo >= velocidade_permitida + (velocidade_permitida * (20 / 100)):\n",
    "        valor_multa = 195.23\n",
    "        pontos = 5\n",
    "        suspensao = False\n",
    "        descricao_multa = \"Transitar em velocidade superior à \" \\\n",
    "                          \"máxima permitida em 20% até 50%\"\n",
    "    else:\n",
    "        valor_multa = 130.16\n",
    "        pontos = 4\n",
    "        suspensao = False\n",
    "        descricao_multa = \"Transitar em velocidade superior à \" \\\n",
    "                          \"máxima permitida em até 20%\"\n",
    "\n",
    "    print(f\"Você foi multado e perdeu {pontos} pontos.\")\n",
    "    if suspensao:\n",
    "        print(\"Você teve a carteira suspensa.\")\n",
    "    print(f\"O valor de sua multa é: R$ {valor_multa}\")\n",
    "    print(f\"Motivo: {descricao_multa}\")\n",
    "else:\n",
    "    print(\"Parabéns, você não foi multado.\")"
   ]
  },
  {
   "cell_type": "raw",
   "metadata": {},
   "source": [
    "Curso Python para Todos – Evaldo Wolkers\n",
    "evaldowolkers@gmail.com - https://evaldowolkers.wordpress.com - https://www.facebook.com/evaldowolkers"
   ]
  },
  {
   "cell_type": "code",
   "execution_count": null,
   "metadata": {},
   "outputs": [],
   "source": []
  }
 ],
 "metadata": {
  "kernelspec": {
   "display_name": "Python 3",
   "language": "python",
   "name": "python3"
  },
  "language_info": {
   "codemirror_mode": {
    "name": "ipython",
    "version": 3
   },
   "file_extension": ".py",
   "mimetype": "text/x-python",
   "name": "python",
   "nbconvert_exporter": "python",
   "pygments_lexer": "ipython3",
   "version": "3.6.5"
  }
 },
 "nbformat": 4,
 "nbformat_minor": 2
}
