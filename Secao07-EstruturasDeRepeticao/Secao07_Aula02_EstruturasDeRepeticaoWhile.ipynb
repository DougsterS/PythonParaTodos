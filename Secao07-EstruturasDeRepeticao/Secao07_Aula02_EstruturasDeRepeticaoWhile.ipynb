{
 "cells": [
  {
   "cell_type": "markdown",
   "metadata": {},
   "source": [
    "# CURSO PYTHON PARA TODOS"
   ]
  },
  {
   "cell_type": "markdown",
   "metadata": {},
   "source": [
    "https://www.udemy.com/python-3-para-todos"
   ]
  },
  {
   "cell_type": "raw",
   "metadata": {},
   "source": [
    "Evaldo Wolkers"
   ]
  },
  {
   "cell_type": "markdown",
   "metadata": {},
   "source": [
    "## Estruturas de Repetição (laços, loops)"
   ]
  },
  {
   "cell_type": "markdown",
   "metadata": {},
   "source": [
    "### While"
   ]
  },
  {
   "cell_type": "raw",
   "metadata": {},
   "source": [
    "O while normalmente é utilizado quando você quer repetir um bloco de código enquanto uma expressão for verdadeira.\n",
    "O while usado indevidamente pode fazer com que o sistema entre em um loop infinito."
   ]
  },
  {
   "cell_type": "raw",
   "metadata": {},
   "source": [
    "Sintaxe:\n",
    "          while condição:\n",
    "                  bloco de código"
   ]
  },
  {
   "cell_type": "raw",
   "metadata": {},
   "source": [
    "O bloco de código é executando enquanto a condição for verdadeira ou o loop for interrompido com um break."
   ]
  },
  {
   "cell_type": "raw",
   "metadata": {},
   "source": [
    "enquanto condição:\n",
    "\tbloco de código\n",
    "\n",
    "x = 1\n",
    "while x < 10:\n",
    "\tprint(x)\n",
    "\tx = x + 1"
   ]
  },
  {
   "cell_type": "markdown",
   "metadata": {},
   "source": [
    "![Imagem2](imagens/Imagem2.png)"
   ]
  },
  {
   "cell_type": "code",
   "execution_count": 1,
   "metadata": {},
   "outputs": [
    {
     "name": "stdout",
     "output_type": "stream",
     "text": [
      "1\n",
      "2\n",
      "3\n",
      "4\n",
      "5\n",
      "6\n",
      "7\n",
      "8\n",
      "9\n"
     ]
    }
   ],
   "source": [
    "x = 1\n",
    "while x < 10:\n",
    "    print(x)\n",
    "    x = x + 1"
   ]
  },
  {
   "cell_type": "markdown",
   "metadata": {},
   "source": [
    "![Imagem3](imagens/Imagem3.png)"
   ]
  },
  {
   "cell_type": "code",
   "execution_count": 2,
   "metadata": {},
   "outputs": [
    {
     "name": "stdout",
     "output_type": "stream",
     "text": [
      "Informe a nota (-1 para finalizar): 10\n",
      "Informe a nota (-1 para finalizar): 8\n",
      "Informe a nota (-1 para finalizar): 7.5\n",
      "Informe a nota (-1 para finalizar): 4\n",
      "Informe a nota (-1 para finalizar): -1\n",
      "Quantidade de notas informadas: 4\n",
      "Média: 7.375\n"
     ]
    }
   ],
   "source": [
    "notas = 0\n",
    "quant_notas_informadas = 0\n",
    "\n",
    "while True:\n",
    "    nota = float(input(\"Informe a nota (-1 para finalizar): \"))\n",
    "    if nota == -1:\n",
    "        break\n",
    "    notas = notas + nota\n",
    "    quant_notas_informadas = quant_notas_informadas + 1\n",
    "    \n",
    "if quant_notas_informadas > 0:\n",
    "    media = notas / quant_notas_informadas\n",
    "    print(f\"Quantidade de notas informadas: {quant_notas_informadas}\")\n",
    "    print(f\"Média: {media}\")\n",
    "else:\n",
    "    print(\"Nenhuma nota informada.\")"
   ]
  },
  {
   "cell_type": "markdown",
   "metadata": {},
   "source": [
    "![Imagem4](imagens/Imagem4.png)"
   ]
  },
  {
   "cell_type": "code",
   "execution_count": 3,
   "metadata": {},
   "outputs": [
    {
     "name": "stdout",
     "output_type": "stream",
     "text": [
      "Quantos números deseja somar? 3\n",
      "Informe um número inteiro para a soma: 10\n",
      "Informe um número inteiro para a soma: 20\n",
      "Informe um número inteiro para a soma: 10\n",
      "Soma: 40\n"
     ]
    }
   ],
   "source": [
    "x = 0\n",
    "soma = 0\n",
    "quant_numeros = int(input(\"Quantos números deseja somar? \"))\n",
    "while x < quant_numeros:\n",
    "    soma = soma + int(input(\"Informe um número inteiro para a soma: \"))\n",
    "    x = x + 1\n",
    "\n",
    "print(f\"Soma: {soma}\")"
   ]
  },
  {
   "cell_type": "markdown",
   "metadata": {},
   "source": [
    "#### Usando else"
   ]
  },
  {
   "cell_type": "raw",
   "metadata": {},
   "source": [
    "O else é executado quando a condição se torna falsa."
   ]
  },
  {
   "cell_type": "code",
   "execution_count": 4,
   "metadata": {},
   "outputs": [
    {
     "name": "stdout",
     "output_type": "stream",
     "text": [
      "0\n",
      "1\n",
      "2\n",
      "3\n",
      "4\n",
      "Acabou\n"
     ]
    }
   ],
   "source": [
    "x = 0\n",
    "while x < 5:\n",
    "    print(x)\n",
    "    x = x + 1\n",
    "else:\n",
    "    print(\"Acabou\")"
   ]
  },
  {
   "cell_type": "code",
   "execution_count": null,
   "metadata": {},
   "outputs": [],
   "source": []
  }
 ],
 "metadata": {
  "kernelspec": {
   "display_name": "Python 3",
   "language": "python",
   "name": "python3"
  },
  "language_info": {
   "codemirror_mode": {
    "name": "ipython",
    "version": 3
   },
   "file_extension": ".py",
   "mimetype": "text/x-python",
   "name": "python",
   "nbconvert_exporter": "python",
   "pygments_lexer": "ipython3",
   "version": "3.6.5"
  }
 },
 "nbformat": 4,
 "nbformat_minor": 2
}
