{
 "cells": [
  {
   "cell_type": "markdown",
   "metadata": {},
   "source": [
    "# CURSO PYTHON PARA TODOS"
   ]
  },
  {
   "cell_type": "markdown",
   "metadata": {},
   "source": [
    "https://www.udemy.com/python-3-para-todos"
   ]
  },
  {
   "cell_type": "raw",
   "metadata": {},
   "source": [
    "Evaldo Wolkers"
   ]
  },
  {
   "attachments": {},
   "cell_type": "markdown",
   "metadata": {},
   "source": [
    "## Estruturas de Repetição (laços, loops)"
   ]
  },
  {
   "attachments": {},
   "cell_type": "markdown",
   "metadata": {},
   "source": [
    "Estruturas de repetição são utilizadas para executar a mesma parte de um programa várias vezes.\n",
    "\n",
    "Usamos estruturas de repetições para que o sistema fique “preso” em um loop até que uma determinada condição de parada seja alcançada."
   ]
  },
  {
   "cell_type": "markdown",
   "metadata": {},
   "source": [
    "![Imagem1](imagens/Imagem1.png)"
   ]
  },
  {
   "attachments": {},
   "cell_type": "markdown",
   "metadata": {},
   "source": [
    "### For (Para) e função range"
   ]
  },
  {
   "attachments": {},
   "cell_type": "raw",
   "metadata": {},
   "source": [
    "O for normalmente é utilizado quando você quer repetir um bloco de código um número fixo de vezes."
   ]
  },
  {
   "attachments": {},
   "cell_type": "raw",
   "metadata": {},
   "source": [
    "Sintaxe:\n",
    "          for referência in sequência:\n",
    "                  bloco de código"
   ]
  },
  {
   "cell_type": "raw",
   "metadata": {},
   "source": [
    "Referência é a variável que vai receber um valor da sequência a cada iteração. A cada iteração ela aponta para um valor da sequência. A referência normalmente é acessada dentro do bloco de código do for para que seu valor seja utilizado. A cada iteração no loop a referência é atualizada."
   ]
  },
  {
   "cell_type": "code",
   "execution_count": null,
   "metadata": {},
   "outputs": [],
   "source": [
    "Sequência:\n",
    "Pode ser uma sequência estática como uma lista ou uma string. Falarei sobre listas nas próximas aulas.\n",
    "Para esta aula entenda que uma lista é uma sequência de elementos dentro de um par de colchetes separados por vírgula.\n",
    "Veja a seguir uma lista de números:\n",
    "[5, 75, 110, 325, 400]\n",
    "Pode ser uma função que gere números, como a função range."
   ]
  },
  {
   "cell_type": "raw",
   "metadata": {},
   "source": [
    "para referência em sequência:\n",
    "\tbloco de código\n",
    "\n",
    "for numero in [8, 7, 17, 25, 38]:\n",
    "\tprint(numero)"
   ]
  },
  {
   "cell_type": "raw",
   "metadata": {},
   "source": [
    "Usando o for com uma lista de números."
   ]
  },
  {
   "cell_type": "code",
   "execution_count": 2,
   "metadata": {},
   "outputs": [
    {
     "name": "stdout",
     "output_type": "stream",
     "text": [
      "0\n",
      "18\n",
      "56\n",
      "77\n",
      "95\n"
     ]
    }
   ],
   "source": [
    "numeros = [0, 18, 56, 77, 95]\n",
    "for numero in numeros:\n",
    "    print(numero)"
   ]
  },
  {
   "cell_type": "raw",
   "metadata": {},
   "source": [
    "Usando o for com uma lista de strings."
   ]
  },
  {
   "cell_type": "code",
   "execution_count": 4,
   "metadata": {},
   "outputs": [
    {
     "name": "stdout",
     "output_type": "stream",
     "text": [
      "Fruta: Maçã\n",
      "Fruta: Abacaxi\n",
      "Fruta: Melão\n",
      "Fruta: Laranja\n"
     ]
    }
   ],
   "source": [
    "frutas = [\"Maçã\", \"Abacaxi\", \"Melão\", \"Laranja\"]\n",
    "for fruta in frutas:\n",
    "    print(f\"Fruta: {fruta}\")"
   ]
  },
  {
   "cell_type": "raw",
   "metadata": {},
   "source": [
    "Usando o for com uma string."
   ]
  },
  {
   "cell_type": "code",
   "execution_count": 5,
   "metadata": {},
   "outputs": [
    {
     "name": "stdout",
     "output_type": "stream",
     "text": [
      "P\n",
      "y\n",
      "t\n",
      "h\n",
      "o\n",
      "n\n"
     ]
    }
   ],
   "source": [
    "for letra in \"Python\":\n",
    "    print(letra)"
   ]
  },
  {
   "cell_type": "raw",
   "metadata": {},
   "source": [
    "Podemos usar o else para executar algum código após o término do loop."
   ]
  },
  {
   "cell_type": "code",
   "execution_count": 6,
   "metadata": {},
   "outputs": [
    {
     "name": "stdout",
     "output_type": "stream",
     "text": [
      "0\n",
      "18\n",
      "56\n",
      "77\n",
      "95\n",
      "Acabou\n"
     ]
    }
   ],
   "source": [
    "for numero in [0, 18, 56, 77, 95]:\n",
    "    print(numero)\n",
    "else:\n",
    "    print(\"Acabou\")"
   ]
  },
  {
   "cell_type": "raw",
   "metadata": {},
   "source": [
    "Para interromper um loop podemos utilizar o break (quebrar o loop)."
   ]
  },
  {
   "cell_type": "code",
   "execution_count": 7,
   "metadata": {},
   "outputs": [
    {
     "name": "stdout",
     "output_type": "stream",
     "text": [
      "0\n",
      "1\n",
      "2\n",
      "3\n",
      "4\n",
      "Até mais\n"
     ]
    }
   ],
   "source": [
    "for numero in range(1000000):\n",
    "    print(numero)\n",
    "    if numero == 4:\n",
    "        break\n",
    "print(\"Até mais\")"
   ]
  },
  {
   "cell_type": "raw",
   "metadata": {},
   "source": [
    "Quando é usado o break, o conteúdo do else não é executado."
   ]
  },
  {
   "cell_type": "code",
   "execution_count": 8,
   "metadata": {},
   "outputs": [
    {
     "name": "stdout",
     "output_type": "stream",
     "text": [
      "Número: 1\n",
      "Número: 2\n",
      "Número: 3\n"
     ]
    }
   ],
   "source": [
    "numeros = [1, 2, 3, 10, 12]\n",
    "for numero in numeros:\n",
    "    if numero == 10:\n",
    "        break\n",
    "    print(f\"Número: {numero}\")\n",
    "else:\n",
    "    print(\"Acabou\")"
   ]
  },
  {
   "cell_type": "raw",
   "metadata": {},
   "source": [
    "Para passar para a próxima iteração podemos utilizar o continue."
   ]
  },
  {
   "cell_type": "code",
   "execution_count": 9,
   "metadata": {},
   "outputs": [
    {
     "name": "stdout",
     "output_type": "stream",
     "text": [
      "1\n",
      "10\n",
      "20\n",
      "40\n",
      "50\n"
     ]
    }
   ],
   "source": [
    "for x in [1, 10, 20, 30, 40, 50]:\n",
    "    if x == 30:\n",
    "        continue\n",
    "    print(x)"
   ]
  },
  {
   "cell_type": "markdown",
   "metadata": {},
   "source": [
    "### Range"
   ]
  },
  {
   "cell_type": "raw",
   "metadata": {},
   "source": [
    "Range é uma função que gera uma lista de números.\n",
    "\n",
    "Sintaxe: range(início, fim, salto)\n",
    "Início e salto são opcionais, se não for informado o início, será considerado iniciando do zero, se não for informado o salto, será incrementado em 1.\n",
    "Exemplo:\n",
    "range(3) resulta em [0, 1, 2]\n",
    "range(0, 10, 2) -> Inicia com zero, finaliza em 9 (e não em 10. É um intervalo aberto) e realiza um salto de 2 em 2. O resultado é 0, 2, 4, 6, 8."
   ]
  },
  {
   "cell_type": "code",
   "execution_count": 11,
   "metadata": {},
   "outputs": [
    {
     "name": "stdout",
     "output_type": "stream",
     "text": [
      "0\n",
      "1\n",
      "2\n"
     ]
    }
   ],
   "source": [
    "for numero in range(3):\n",
    "    print(numero)"
   ]
  },
  {
   "cell_type": "code",
   "execution_count": 12,
   "metadata": {},
   "outputs": [
    {
     "name": "stdout",
     "output_type": "stream",
     "text": [
      "20\n",
      "22\n",
      "24\n",
      "26\n",
      "28\n"
     ]
    }
   ],
   "source": [
    "for numero in range(20, 30, 2):\n",
    "    print(numero)"
   ]
  },
  {
   "cell_type": "code",
   "execution_count": 20,
   "metadata": {},
   "outputs": [
    {
     "name": "stdout",
     "output_type": "stream",
     "text": [
      "Informe o primeiro número: 10\n",
      "Informe o número final: 20\n",
      "Informe o salto: 2\n",
      "Cálculo: 10 + 12 + 14 + 16 + 18 + \n",
      "Soma: 70\n"
     ]
    }
   ],
   "source": [
    "# Somando números do intervalo informado limitando o maior número\n",
    "inicio = int(input(\"Informe o primeiro número: \"))\n",
    "fim = int(input(\"Informe o número final: \"))\n",
    "salto = int(input(\"Informe o salto: \"))\n",
    "texto = \"Cálculo: \"\n",
    "soma = 0\n",
    "for numero in range(inicio, fim, salto):\n",
    "    soma = soma + numero\n",
    "    texto = texto + str(numero)\n",
    "    if numero > 50:\n",
    "        texto = texto + \" Passou de 50\"\n",
    "        break\n",
    "    if numero != fim-1:\n",
    "        texto = texto + \" + \"\n",
    "print(f\"{texto}\")\n",
    "print(f\"Soma: {soma}\")"
   ]
  },
  {
   "cell_type": "raw",
   "metadata": {},
   "source": [
    "Sintaxe completa:\n",
    "    for referência in sequência:\n",
    "        bloco de código\n",
    "        continue\n",
    "        break\n",
    "    else:\n",
    "        bloco de código"
   ]
  }
 ],
 "metadata": {
  "kernelspec": {
   "display_name": "Python 3",
   "language": "python",
   "name": "python3"
  },
  "language_info": {
   "codemirror_mode": {
    "name": "ipython",
    "version": 3
   },
   "file_extension": ".py",
   "mimetype": "text/x-python",
   "name": "python",
   "nbconvert_exporter": "python",
   "pygments_lexer": "ipython3",
   "version": "3.6.5"
  }
 },
 "nbformat": 4,
 "nbformat_minor": 2
}
