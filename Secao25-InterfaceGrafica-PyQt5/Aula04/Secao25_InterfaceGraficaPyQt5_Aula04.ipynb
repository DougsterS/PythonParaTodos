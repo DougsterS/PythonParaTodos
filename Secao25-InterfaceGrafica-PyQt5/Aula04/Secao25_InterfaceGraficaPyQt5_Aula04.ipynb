{
 "cells": [
  {
   "cell_type": "markdown",
   "metadata": {},
   "source": [
    "# CURSO PYTHON PARA TODOS"
   ]
  },
  {
   "cell_type": "markdown",
   "metadata": {},
   "source": [
    "https://www.udemy.com/python-3-para-todos"
   ]
  },
  {
   "cell_type": "markdown",
   "metadata": {},
   "source": [
    "Evaldo Wolkers"
   ]
  },
  {
   "attachments": {},
   "cell_type": "markdown",
   "metadata": {},
   "source": [
    "## Interface Gráfica (GUI, Graphic User Interface)"
   ]
  },
  {
   "cell_type": "markdown",
   "metadata": {},
   "source": [
    "Componentes que veremos nesta aula\n",
    "QCheckBox, QRadioButton, QProgressBar e QSlider."
   ]
  },
  {
   "cell_type": "markdown",
   "metadata": {},
   "source": [
    "### QCheckBox"
   ]
  },
  {
   "cell_type": "markdown",
   "metadata": {},
   "source": [
    "QCheckBox (caixa de seleção) é um botão de opção que pode ser marcado ou desmarcado. São tipicamente usadas para representar recursos em um aplicativo que pode ser ativado ou desativado sem afetar outros componentes."
   ]
  },
  {
   "cell_type": "markdown",
   "metadata": {},
   "source": [
    "### QRadioButton"
   ]
  },
  {
   "cell_type": "markdown",
   "metadata": {},
   "source": [
    "QRadioButton é um botão de opção que pode ser ligado (marcado) ou desligado (desmarcado). Os botões de rádio normalmente são utilizados quando são necessárias várias opções onde apenas uma pode ser selecionada."
   ]
  },
  {
   "cell_type": "markdown",
   "metadata": {},
   "source": [
    "### QProgressBar"
   ]
  },
  {
   "cell_type": "markdown",
   "metadata": {},
   "source": [
    "QProgressBar é usado para criar uma barra de progresso horizontal ou vertical."
   ]
  },
  {
   "cell_type": "markdown",
   "metadata": {},
   "source": [
    "### QSlider"
   ]
  },
  {
   "cell_type": "markdown",
   "metadata": {},
   "source": [
    "QSlider (Controle deslizante) é utilizado para controlar um valor limitado. Permite ao usuário mover um controle deslizante ao longo de um sulco horizontal ou vertical e traduz a posição do identificador em um valor inteiro dentro de uma faixa.\n"
   ]
  },
  {
   "cell_type": "code",
   "execution_count": null,
   "metadata": {},
   "outputs": [],
   "source": []
  }
 ],
 "metadata": {
  "kernelspec": {
   "display_name": "Python 3",
   "language": "python",
   "name": "python3"
  },
  "language_info": {
   "codemirror_mode": {
    "name": "ipython",
    "version": 3
   },
   "file_extension": ".py",
   "mimetype": "text/x-python",
   "name": "python",
   "nbconvert_exporter": "python",
   "pygments_lexer": "ipython3",
   "version": "3.6.5"
  }
 },
 "nbformat": 4,
 "nbformat_minor": 2
}
