{
 "cells": [
  {
   "cell_type": "markdown",
   "metadata": {},
   "source": [
    "# CURSO PYTHON PARA TODOS"
   ]
  },
  {
   "cell_type": "markdown",
   "metadata": {},
   "source": [
    "https://www.udemy.com/python-3-para-todos"
   ]
  },
  {
   "cell_type": "raw",
   "metadata": {},
   "source": [
    "Evaldo Wolkers"
   ]
  },
  {
   "cell_type": "markdown",
   "metadata": {},
   "source": [
    "## Aprendendo mais sobre strings - Aula 2"
   ]
  },
  {
   "cell_type": "markdown",
   "metadata": {},
   "source": [
    "### Fatiamento, Index e Split"
   ]
  },
  {
   "cell_type": "markdown",
   "metadata": {},
   "source": [
    "#### Fatiamento"
   ]
  },
  {
   "cell_type": "markdown",
   "metadata": {},
   "source": [
    "Fatiamento (slicing) é o recurso de extrair partes de uma string utilizando o índice de seus caracteres."
   ]
  },
  {
   "cell_type": "markdown",
   "metadata": {},
   "source": [
    "![Imagem14](imagens/Imagem14.png)"
   ]
  },
  {
   "attachments": {},
   "cell_type": "markdown",
   "metadata": {},
   "source": [
    "No fatiamento a posição inicial (x) é incluída no resultado, porém, a posição final (y) não é incluída.!"
   ]
  },
  {
   "cell_type": "markdown",
   "metadata": {},
   "source": [
    "![Picture1](imagens/Picture1.png)"
   ]
  },
  {
   "attachments": {},
   "cell_type": "markdown",
   "metadata": {},
   "source": [
    "Neste exemplo será impressa a string “python”."
   ]
  },
  {
   "cell_type": "code",
   "execution_count": 1,
   "metadata": {},
   "outputs": [
    {
     "name": "stdout",
     "output_type": "stream",
     "text": [
      "python\n"
     ]
    }
   ],
   "source": [
    "endereco = \"www.python.org\"\n",
    "fatia = endereco[4:10]\n",
    "print(fatia)"
   ]
  },
  {
   "cell_type": "markdown",
   "metadata": {},
   "source": [
    "Se o salto não for informado, será considerado igual a um. O que fará com que retorne o conteúdo da posição inicial até a posição final, caractere por caractere."
   ]
  },
  {
   "cell_type": "markdown",
   "metadata": {},
   "source": [
    "Vamos agora fatiar usando um salto igual a 2. O resultado será a string “pto”."
   ]
  },
  {
   "cell_type": "code",
   "execution_count": 2,
   "metadata": {},
   "outputs": [
    {
     "name": "stdout",
     "output_type": "stream",
     "text": [
      "pto\n"
     ]
    }
   ],
   "source": [
    "endereco = \"www.python.org\"\n",
    "fatia = endereco[4:10:2]\n",
    "print(fatia)"
   ]
  },
  {
   "cell_type": "markdown",
   "metadata": {},
   "source": [
    "![Picture2](imagens/Picture2.png)"
   ]
  },
  {
   "cell_type": "markdown",
   "metadata": {},
   "source": [
    "Se os índices de limite inicial e final não forem informados, é realizada apenas uma cópia da string completa."
   ]
  },
  {
   "cell_type": "code",
   "execution_count": 3,
   "metadata": {},
   "outputs": [
    {
     "name": "stdout",
     "output_type": "stream",
     "text": [
      "www.python.org\n"
     ]
    }
   ],
   "source": [
    "endereco = \"www.python.org\"\n",
    "fatia = endereco[:]\n",
    "print(fatia)"
   ]
  },
  {
   "cell_type": "markdown",
   "metadata": {},
   "source": [
    "Nesse exemplo não foi informado o valor de salto, sendo assim, serão retornados todos caracteres, um a um.\n",
    "Será impressa a string completa:\n",
    "www.python.org"
   ]
  },
  {
   "cell_type": "markdown",
   "metadata": {},
   "source": [
    "Se modificarmos o exemplo colocando um salto de -1, será retornada a string completa, caracter por caracter, porém, em ordem invertida.\n",
    "gro.nohtyp.www"
   ]
  },
  {
   "cell_type": "markdown",
   "metadata": {},
   "source": [
    "![Picture3](imagens/Picture3.png)"
   ]
  },
  {
   "cell_type": "markdown",
   "metadata": {},
   "source": [
    "Se for omitido o índice inicial será considerado à partir do primeiro caractere. "
   ]
  },
  {
   "cell_type": "code",
   "execution_count": 4,
   "metadata": {},
   "outputs": [
    {
     "name": "stdout",
     "output_type": "stream",
     "text": [
      "www\n"
     ]
    }
   ],
   "source": [
    "endereco = \"www.python.org\"\n",
    "fatia = endereco[:3]\n",
    "print(fatia)"
   ]
  },
  {
   "cell_type": "markdown",
   "metadata": {},
   "source": [
    "Nesse exemplo será impressa a string “www”."
   ]
  },
  {
   "cell_type": "markdown",
   "metadata": {},
   "source": [
    "![Picture4](imagens/Picture4.png)"
   ]
  },
  {
   "cell_type": "code",
   "execution_count": 5,
   "metadata": {},
   "outputs": [
    {
     "ename": "SyntaxError",
     "evalue": "invalid syntax (<ipython-input-5-10de132d2e87>, line 1)",
     "output_type": "error",
     "traceback": [
      "\u001b[1;36m  File \u001b[1;32m\"<ipython-input-5-10de132d2e87>\"\u001b[1;36m, line \u001b[1;32m1\u001b[0m\n\u001b[1;33m    Se for omitido o índice final será considerado até o último caractere (incluindo o último caractere).\u001b[0m\n\u001b[1;37m         ^\u001b[0m\n\u001b[1;31mSyntaxError\u001b[0m\u001b[1;31m:\u001b[0m invalid syntax\n"
     ]
    }
   ],
   "source": [
    "Se for omitido o índice final será considerado até o último caractere (incluindo o último caractere)."
   ]
  },
  {
   "cell_type": "code",
   "execution_count": null,
   "metadata": {},
   "outputs": [],
   "source": [
    "endereco = \"www.python.org\"\n",
    "fatia = endereco[11:]\n",
    "print(fatia)"
   ]
  },
  {
   "attachments": {},
   "cell_type": "markdown",
   "metadata": {},
   "source": [
    "Nesse exemplo será impressa a string “org”."
   ]
  },
  {
   "cell_type": "markdown",
   "metadata": {},
   "source": [
    "![Picture5](imagens/Picture5.png)"
   ]
  },
  {
   "cell_type": "code",
   "execution_count": null,
   "metadata": {},
   "outputs": [],
   "source": [
    "Agora vamos retornar a string completa, porém, com um salto igual a 2."
   ]
  },
  {
   "cell_type": "code",
   "execution_count": null,
   "metadata": {},
   "outputs": [],
   "source": [
    "endereco = \"www.python.org\"\n",
    "fatia = endereco[::2]\n",
    "print(fatia)"
   ]
  },
  {
   "cell_type": "markdown",
   "metadata": {},
   "source": [
    "Nesse exemplo será impressa a string “wwpto.r”"
   ]
  },
  {
   "cell_type": "markdown",
   "metadata": {},
   "source": [
    "![Picture6](imagens/Picture6.png)"
   ]
  },
  {
   "cell_type": "markdown",
   "metadata": {},
   "source": [
    "É possível utilizar um índice negativo para trabalharmos com o conteúdo da string de trás pra frente. O último caractere é o -1."
   ]
  },
  {
   "cell_type": "code",
   "execution_count": null,
   "metadata": {},
   "outputs": [],
   "source": [
    "endereco = \"www.python.org\"\n",
    "fatia = endereco[-10:-4]\n",
    "print(fatia)"
   ]
  },
  {
   "cell_type": "markdown",
   "metadata": {},
   "source": [
    "Nesse exemplo será impressa a string “python”"
   ]
  },
  {
   "cell_type": "markdown",
   "metadata": {},
   "source": [
    "![Picture7](imagens/Picture7.png)"
   ]
  },
  {
   "cell_type": "markdown",
   "metadata": {},
   "source": [
    "#### Index"
   ]
  },
  {
   "cell_type": "raw",
   "metadata": {},
   "source": [
    "O método index pode ser utilizado para retornar o índice da primeira ocorrência do elemento encontrado em uma string.\n",
    "\n",
    "Sintaxe:\n",
    "string.index(“a”) \n",
    "# Será retornado o índice da primeira ocorrência do caractere “a” na string.\n",
    "\n",
    "string.index(“Python”) # Texto\n",
    "# Será retornado o índice da primeira ocorrência do texto “Python” na string."
   ]
  },
  {
   "cell_type": "raw",
   "metadata": {},
   "source": [
    "Exemplo prático 1:\n",
    "Obtendo o usuário de um endereço de e-mail.\n",
    "Como todo endereço de e-mail possui um arroba após o nome do usuário, podemos identificar a posição do caractere arroba dentro do endereço de e-mail usando o método “index”.\n",
    "Veja:\n",
    "string.index(“@”)\n",
    "Sabendo a posição do caractere “@” podemos usar fatiamento para retornar o usuário."
   ]
  },
  {
   "cell_type": "markdown",
   "metadata": {},
   "source": [
    "Veja como obter o índice da parte da string que nos interessa."
   ]
  },
  {
   "cell_type": "markdown",
   "metadata": {},
   "source": [
    "![Picture8](imagens/Picture8.png)"
   ]
  },
  {
   "cell_type": "code",
   "execution_count": null,
   "metadata": {},
   "outputs": [],
   "source": [
    "email = \"evaldowolkers@gmail.com\"\n",
    "indice = email.index(\".com\")\n",
    "print(indice) # impresso 19\n",
    "indice = email.index(\"@gmail\")\n",
    "print(indice) # impresso 13\n",
    "indice = email.index(\"@\")\n",
    "print(indice) # impresso 13"
   ]
  },
  {
   "cell_type": "markdown",
   "metadata": {},
   "source": [
    "Veja agora o programa exemplo:"
   ]
  },
  {
   "cell_type": "code",
   "execution_count": null,
   "metadata": {},
   "outputs": [],
   "source": [
    "email = \"evaldowolkers@gmail.com\"\n",
    "indice_arroba = email.index(\"@\")\n",
    "usuario = email[0:indice_arroba]\n",
    "print(\"O nome de usuário é:\", usuario)"
   ]
  },
  {
   "cell_type": "raw",
   "metadata": {},
   "source": [
    "Resultado:\n",
    "O nome de usuário é: evaldowolkers"
   ]
  },
  {
   "cell_type": "raw",
   "metadata": {},
   "source": [
    "Exemplo prático 2: Obtendo o provedor de um endereço de e-mail.\n",
    "O provedor é a informação que fica entre o arroba e um ponto.\n",
    "\n",
    "Exemplo: \n",
    "fulano@gmail.com (o provedor é o gmail)"
   ]
  },
  {
   "cell_type": "markdown",
   "metadata": {},
   "source": [
    "Veja agora o programa exemplo:"
   ]
  },
  {
   "cell_type": "code",
   "execution_count": null,
   "metadata": {},
   "outputs": [],
   "source": [
    "email = \"evaldowolkers@gmail.com\"\n",
    "indice_arroba = email.index(\"@\")\n",
    "indice_ponto = email.index(\".\")\n",
    "provedor = email[indice_arroba+1:indice_ponto]\n",
    "print(\"O nome do provedor é:\", provedor)"
   ]
  },
  {
   "cell_type": "markdown",
   "metadata": {},
   "source": [
    "Foi incrementado 1 ao indice_arroba para não pegar o arroba."
   ]
  },
  {
   "cell_type": "raw",
   "metadata": {},
   "source": [
    "Resultado:\n",
    "O nome do provedor é: gmail"
   ]
  },
  {
   "cell_type": "markdown",
   "metadata": {},
   "source": [
    "![Imagem3](imagens/Imagem3.png)"
   ]
  },
  {
   "cell_type": "markdown",
   "metadata": {},
   "source": [
    "Veja agora o programa novamente:"
   ]
  },
  {
   "cell_type": "code",
   "execution_count": null,
   "metadata": {},
   "outputs": [],
   "source": [
    "email = \"joao.silva@gmail.com\"\n",
    "indice_arroba = email.index(\"@\")\n",
    "indice_ponto = email.index(\".\")\n",
    "provedor = email[indice_arroba+1:indice_ponto]\n",
    "print(\"O nome do provedor é:\", provedor)"
   ]
  },
  {
   "cell_type": "raw",
   "metadata": {},
   "source": [
    "Resultado:\n",
    "O nome do provedor é:"
   ]
  },
  {
   "cell_type": "markdown",
   "metadata": {},
   "source": [
    "Nada foi impresso porque o índice final ficou menor que o índice inicial. email[10+1:4]\n",
    "Vamos ver como resolver isso."
   ]
  },
  {
   "cell_type": "markdown",
   "metadata": {},
   "source": [
    "#### Split"
   ]
  },
  {
   "cell_type": "markdown",
   "metadata": {},
   "source": [
    "![Picture9](imagens/Picture9.png)"
   ]
  },
  {
   "cell_type": "raw",
   "metadata": {},
   "source": [
    "Para esta tarefa podemos usar o método split.\n",
    "O método split retorna uma lista de palavras usando um separador informado por parâmetro.\n",
    "\n",
    "Obs.: Em aulas futuras irei falar sobre listas em Python.\n",
    "Nesta aula, entenda apenas que o e-mail será quebrado em duas informações à partir do “@”, sendo “joao.silva” e “gmail.com”."
   ]
  },
  {
   "cell_type": "raw",
   "metadata": {},
   "source": [
    "Sintaxe:\n",
    "string.split(“separador”)\n",
    "\n",
    "No nosso caso usaremos assim:\n",
    "“joao.silva@gmail.com”.split(“@”)\n",
    "Serão retornadas duas strings, uma contendo “joao.silva” e a outra contendo “gmail.com”."
   ]
  },
  {
   "cell_type": "code",
   "execution_count": null,
   "metadata": {},
   "outputs": [],
   "source": [
    "email = \"joao.silva@gmail.com\"\n",
    "usuario, dominio = email.split(\"@\")\n",
    "print(\"Usuário:\", usuario)\n",
    "print(\"Domínio:\", dominio)"
   ]
  },
  {
   "cell_type": "raw",
   "metadata": {},
   "source": [
    "Usuário: joao.silva\n",
    "Domínio: gmail.com"
   ]
  },
  {
   "cell_type": "markdown",
   "metadata": {},
   "source": [
    "Agora que temos o domínio separado podemos procurar o “.” para indentificá-lo e separar o provedor."
   ]
  },
  {
   "cell_type": "code",
   "execution_count": null,
   "metadata": {},
   "outputs": [],
   "source": [
    "email = \"joao.silva@gmail.com\"\n",
    "usuario, dominio = email.split(\"@\")\n",
    "indice_ponto = dominio.index(\".\")\n",
    "provedor = dominio[0:indice_ponto]\n",
    "print(\"O usuário é:\", usuario)\n",
    "print(\"O domínio é:\", dominio)\n"
   ]
  },
  {
   "cell_type": "raw",
   "metadata": {},
   "source": [
    "O usuário é: joao.silva\n",
    "O domínio é: gmail.com"
   ]
  }
 ],
 "metadata": {
  "kernelspec": {
   "display_name": "Python 3",
   "language": "python",
   "name": "python3"
  },
  "language_info": {
   "codemirror_mode": {
    "name": "ipython",
    "version": 3
   },
   "file_extension": ".py",
   "mimetype": "text/x-python",
   "name": "python",
   "nbconvert_exporter": "python",
   "pygments_lexer": "ipython3",
   "version": "3.6.5"
  }
 },
 "nbformat": 4,
 "nbformat_minor": 2
}
