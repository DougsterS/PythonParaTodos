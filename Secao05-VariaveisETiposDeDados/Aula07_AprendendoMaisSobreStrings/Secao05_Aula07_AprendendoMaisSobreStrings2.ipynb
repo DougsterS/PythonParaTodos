{
 "cells": [
  {
   "cell_type": "markdown",
   "metadata": {},
   "source": [
    "# CURSO PYTHON PARA TODOS"
   ]
  },
  {
   "cell_type": "markdown",
   "metadata": {},
   "source": [
    "https://www.udemy.com/python-3-para-todos"
   ]
  },
  {
   "cell_type": "raw",
   "metadata": {},
   "source": [
    "Evaldo Wolkers"
   ]
  },
  {
   "cell_type": "markdown",
   "metadata": {},
   "source": [
    "## Aprendendo mais sobre strings - Aula 2"
   ]
  },
  {
   "attachments": {},
   "cell_type": "markdown",
   "metadata": {},
   "source": [
    "### Fatiamento, Index e Split"
   ]
  },
  {
   "attachments": {},
   "cell_type": "markdown",
   "metadata": {},
   "source": [
    "Fatiamento (slicing) é o recurso de extrair partes de uma string utilizando o índice de seus caracteres."
   ]
  },
  {
   "cell_type": "markdown",
   "metadata": {},
   "source": [
    "![Imagem14](imagens/Imagem14.png)"
   ]
  },
  {
   "attachments": {},
   "cell_type": "markdown",
   "metadata": {},
   "source": [
    "A posição inicial (x) é incluída no resultado, porém, a posição final (y) não é incluída."
   ]
  },
  {
   "cell_type": "code",
   "execution_count": 1,
   "metadata": {},
   "outputs": [
    {
     "name": "stdout",
     "output_type": "stream",
     "text": [
      "python\n"
     ]
    }
   ],
   "source": [
    "endereco = \"www.python.org\"\n",
    "# www . python . org\n",
    "# 012 3 456789 0 123\n",
    "fatia = endereco[4:10]\n",
    "print(fatia)"
   ]
  },
  {
   "attachments": {},
   "cell_type": "markdown",
   "metadata": {},
   "source": [
    "O resultado obtido com o print foi o texto “python”. Observe os índices fornecidos:\n",
    "4 = posição da letra “p”\n",
    "10 = posição do “.”, como o caractere da décima posição não é incluído, o valor retornado é do “p” até o “n”, que é o nono caractere."
   ]
  },
  {
   "attachments": {},
   "cell_type": "markdown",
   "metadata": {},
   "source": [
    "Se os índices de limite inicial e final não forem informados, é realizada apenas uma cópia da string."
   ]
  },
  {
   "cell_type": "code",
   "execution_count": 2,
   "metadata": {},
   "outputs": [
    {
     "name": "stdout",
     "output_type": "stream",
     "text": [
      "www.python.org\n"
     ]
    }
   ],
   "source": [
    "endereco = \"www.python.org\"\n",
    "# www . python . org\n",
    "# 012 3 456789 0 123\n",
    "fatia = endereco[:]\n",
    "print(fatia)\n"
   ]
  },
  {
   "attachments": {},
   "cell_type": "markdown",
   "metadata": {},
   "source": [
    "O conteúdo da variável fatia exibido com o print é www.python.org."
   ]
  },
  {
   "cell_type": "markdown",
   "metadata": {},
   "source": [
    "Se for omitido o índice inicial será considerado à partir do primeiro caractere."
   ]
  },
  {
   "cell_type": "code",
   "execution_count": 3,
   "metadata": {},
   "outputs": [
    {
     "name": "stdout",
     "output_type": "stream",
     "text": [
      "www\n"
     ]
    }
   ],
   "source": [
    "endereco = \"www.python.org\"\n",
    "# www . python . org\n",
    "# 012 3 456789 0 123\n",
    "fatia = endereco[:3]\n",
    "print(fatia)"
   ]
  },
  {
   "attachments": {},
   "cell_type": "markdown",
   "metadata": {},
   "source": [
    "O conteúdo da variável fatia exibido com o print é “www”, ou seja, do índice zero até o 3 (retornando até o índice 2, não considerando o índice 3)."
   ]
  },
  {
   "attachments": {},
   "cell_type": "markdown",
   "metadata": {},
   "source": [
    "Se for omitido o índice final será considerado até o último caractere (considerando o último)."
   ]
  },
  {
   "cell_type": "code",
   "execution_count": 4,
   "metadata": {},
   "outputs": [
    {
     "name": "stdout",
     "output_type": "stream",
     "text": [
      "org\n"
     ]
    }
   ],
   "source": [
    "endereco = \"www.python.org\"\n",
    "# www . python . org\n",
    "# 012 3 456789 0 123\n",
    "fatia = endereco[11:]\n",
    "print(fatia)"
   ]
  },
  {
   "cell_type": "markdown",
   "metadata": {},
   "source": [
    "O conteúdo da variável fatia exibido com o print é “org”, ou seja, do índice 11 até o último caractere (retornando o 11, 12 e 13)."
   ]
  },
  {
   "attachments": {},
   "cell_type": "markdown",
   "metadata": {},
   "source": [
    "É possível utilizar um índice negativo para iniciar no último caractere da string. O último caractere é o -1."
   ]
  },
  {
   "cell_type": "code",
   "execution_count": 5,
   "metadata": {},
   "outputs": [
    {
     "name": "stdout",
     "output_type": "stream",
     "text": [
      "python\n"
     ]
    }
   ],
   "source": [
    "# Usando índice negativo para o final da string\n",
    "#   w   w   w   .   p  y  t  h  o  n  .  o  r  g\n",
    "# -14 -13 -12 -11 -10 -9 -8 -7 -6 -5 -4 -3 -2 -1\n",
    "endereco = \"www.python.org\"\n",
    "fatia = endereco[-10:-4]\n",
    "print(fatia)"
   ]
  },
  {
   "attachments": {},
   "cell_type": "markdown",
   "metadata": {},
   "source": [
    "O conteúdo da variável fatia exibido com o print é “python”."
   ]
  },
  {
   "attachments": {},
   "cell_type": "raw",
   "metadata": {},
   "source": [
    "O método index pode ser utilizado para retornar o índice da primeira ocorrência do elemento encontrado no texto.\n",
    "Sintaxe:\n",
    "string.index(“a”) # Caractere\n",
    "string.index(“Python”) # Texto"
   ]
  },
  {
   "attachments": {},
   "cell_type": "raw",
   "metadata": {},
   "source": [
    "Exemplo prático 1: Obtendo o usuário de um endereço de e-mail.\n",
    "Como todo endereço de e-mail possui um arroba após o nome do usuário, podemos identificar a posição do arroba dentro do endereço de e-mail usando um método “index”.\n",
    "Veja:\n",
    "string.index(“@”)"
   ]
  },
  {
   "cell_type": "code",
   "execution_count": 6,
   "metadata": {},
   "outputs": [
    {
     "name": "stdout",
     "output_type": "stream",
     "text": [
      "19\n",
      "13\n",
      "13\n"
     ]
    }
   ],
   "source": [
    "email = \"evaldowolkers@gmail.com\"\n",
    "#01234567890123456789012    \n",
    "indice = email.index(\".com\")\n",
    "print(indice) # impresso 19\n",
    "indice = email.index(\"@gmail\")\n",
    "print(indice) # impresso 13\n",
    "indice = email.index(\"@\")\n",
    "print(indice) # impresso 13"
   ]
  },
  {
   "cell_type": "markdown",
   "metadata": {},
   "source": [
    "![Imagem15](imagens/Imagem15.png)"
   ]
  },
  {
   "cell_type": "raw",
   "metadata": {},
   "source": [
    "Exemplo prático 2: Obtendo o provedor de um endereço de e-mail.\n",
    "O provedor é a informação que fica entre o arroba e um ponto.\n",
    "\n",
    "Exemplo: \n",
    "fulano@gmail.com (o provedor é o gmail)"
   ]
  },
  {
   "cell_type": "markdown",
   "metadata": {},
   "source": [
    "![Imagem16](imagens/Imagem16.png)"
   ]
  },
  {
   "cell_type": "markdown",
   "metadata": {},
   "source": [
    "![Imagem17](imagens/Imagem17.png)"
   ]
  },
  {
   "cell_type": "markdown",
   "metadata": {},
   "source": [
    "![Imagem18](imagens/Imagem18.png)"
   ]
  },
  {
   "cell_type": "raw",
   "metadata": {},
   "source": [
    "Que tal aprendermos um novo método para “quebrar” uma string à partir de um determinado caractere.\n",
    "Veja:\n",
    "evaldowolkers@gmail.com\n",
    "\n",
    "     |                       |\n",
    "     V                       V\n",
    "\n",
    "evaldowolkers            gmail.com"
   ]
  },
  {
   "attachments": {},
   "cell_type": "markdown",
   "metadata": {},
   "source": [
    "Para isso podemos usar o método split.\n",
    "O método split retorna uma lista de palavras usando um separador informado por parâmetro.\n",
    "\n",
    "Obs.: Em aulas futuras irei falar sobre listas em Python.\n",
    "Nesta aula, entenda que o e-mail será quebrado em duas informações."
   ]
  },
  {
   "cell_type": "raw",
   "metadata": {},
   "source": [
    "Veja:\n",
    "string.split(“separador”)\n",
    "\n",
    "No nosso caso usaremos assim:\n",
    "“joao.silva@gmail.com”.split(“@”)\n",
    "Serão retornadas duas strings, uma contendo “joao.silva” e a outra contendo “gmail.com”."
   ]
  },
  {
   "cell_type": "markdown",
   "metadata": {},
   "source": [
    "![Imagem19](imagens/Imagem19.png)"
   ]
  },
  {
   "cell_type": "markdown",
   "metadata": {},
   "source": [
    "Agora que temos o domínio separado podemos procurar o “.” para indentificá-lo e separar o provedor."
   ]
  },
  {
   "cell_type": "markdown",
   "metadata": {},
   "source": [
    "![Imagem20](imagens/Imagem20.png)"
   ]
  }
 ],
 "metadata": {
  "kernelspec": {
   "display_name": "Python 3",
   "language": "python",
   "name": "python3"
  },
  "language_info": {
   "codemirror_mode": {
    "name": "ipython",
    "version": 3
   },
   "file_extension": ".py",
   "mimetype": "text/x-python",
   "name": "python",
   "nbconvert_exporter": "python",
   "pygments_lexer": "ipython3",
   "version": "3.6.5"
  }
 },
 "nbformat": 4,
 "nbformat_minor": 2
}
