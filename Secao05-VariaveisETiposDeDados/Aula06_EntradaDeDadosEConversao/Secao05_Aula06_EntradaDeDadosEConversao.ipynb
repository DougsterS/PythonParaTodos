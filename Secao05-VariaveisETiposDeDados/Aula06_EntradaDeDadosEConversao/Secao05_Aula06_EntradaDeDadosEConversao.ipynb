{
 "cells": [
  {
   "attachments": {},
   "cell_type": "markdown",
   "metadata": {},
   "source": [
    "# Variáveis e tipos de dados"
   ]
  },
  {
   "attachments": {},
   "cell_type": "markdown",
   "metadata": {},
   "source": [
    "## Entrada de dados e conversão"
   ]
  },
  {
   "cell_type": "raw",
   "metadata": {},
   "source": [
    "Até esta aula em nossos exemplos, as variáveis receberam valores fornecidos diretamente no código-fonte.\n",
    "Vou mostrar agora como capturar dados informados pelo usuário.\n",
    "Desta forma, o mesmo programa poderá ser usado diversas vezes com valores fornecidos a cada execução.\n",
    "Entrada de dados é o momento em que o programa recebe dados ou valores através de dispositivos de entrada como teclado ou através de um arquivo em disco."
   ]
  },
  {
   "cell_type": "raw",
   "metadata": {},
   "source": [
    "Para solicitar informações ao usuário usamos a função input.\n",
    "A função input possui um parâmetro do tipo string que é a mensagem a ser exibida ao usuário e retorna também uma string que é a resposta fornecida pelo usuário.\n",
    "\n",
    "resposta = input(“Mensagem a ser exibida”)"
   ]
  },
  {
   "cell_type": "raw",
   "metadata": {},
   "source": [
    "No interpretador, após executarmos o input, o Python mostra a frase e aguarda a entrada de dados."
   ]
  },
  {
   "cell_type": "markdown",
   "metadata": {},
   "source": [
    "![Imagem1](imagens/Imagem1.png)"
   ]
  },
  {
   "cell_type": "raw",
   "metadata": {},
   "source": [
    "No PyCharm, usamos a janela de execução para a entrada de dados."
   ]
  },
  {
   "cell_type": "markdown",
   "metadata": {},
   "source": [
    "![Imagem2](imagens/Imagem2.png)"
   ]
  },
  {
   "cell_type": "code",
   "execution_count": 2,
   "metadata": {},
   "outputs": [
    {
     "name": "stdout",
     "output_type": "stream",
     "text": [
      "Informe a resposta correta:\n",
      " Qual linguagem você está aprendendo agora?\n",
      " a) Python\n",
      " b) Java\n",
      " resposta: a\n",
      "Sua resposta foi: a\n"
     ]
    }
   ],
   "source": [
    "resposta = input(\"Informe a resposta correta:\\n Qual linguagem você está aprendendo agora?\\n a) Python\\n b) Java\\n resposta: \")\n",
    "print(\"Sua resposta foi:\", resposta)"
   ]
  },
  {
   "cell_type": "markdown",
   "metadata": {},
   "source": [
    "![Imagem3](imagens/Imagem3.png)"
   ]
  },
  {
   "cell_type": "markdown",
   "metadata": {},
   "source": [
    "![Imagem4](imagens/Imagem4.png)"
   ]
  },
  {
   "cell_type": "raw",
   "metadata": {},
   "source": [
    "Para converter o valor informado pelo usuário em um inteiro usamos a função int.\n",
    "\n",
    "Para converter em um valor com decimais usamos a função float."
   ]
  },
  {
   "cell_type": "code",
   "execution_count": 5,
   "metadata": {},
   "outputs": [
    {
     "name": "stdout",
     "output_type": "stream",
     "text": [
      "Informe o valor unitário do produto: 10\n",
      "Informe a quantidade de produtos: 3\n",
      "O total da compra é: 30.0\n"
     ]
    }
   ],
   "source": [
    "valor_unitario = float(input(\"Informe o valor unitário do produto: \"))\n",
    "quantidade = int(input(\"Informe a quantidade de produtos: \"))\n",
    "print(f\"O total da compra é: {valor_unitario * quantidade}\")"
   ]
  },
  {
   "cell_type": "raw",
   "metadata": {},
   "source": [
    "A utilização do \"f\" junto ao texto do print é conhecido como f-strings, um recurso do Python 3.6 que será detalhado na próxima aula. Ele é utilizado para acrescentarmos variáveis e operações dentro da string. Neste exemplo será feita a multiplicação das duas variáveis. As chaves delimitam a parte que será substituída e não será um texo simples.\n",
    "print(f\"O total da compra é: {valor_unitario * quantidade}\")"
   ]
  },
  {
   "cell_type": "code",
   "execution_count": null,
   "metadata": {},
   "outputs": [],
   "source": []
  }
 ],
 "metadata": {
  "kernelspec": {
   "display_name": "Python 3",
   "language": "python",
   "name": "python3"
  },
  "language_info": {
   "codemirror_mode": {
    "name": "ipython",
    "version": 3
   },
   "file_extension": ".py",
   "mimetype": "text/x-python",
   "name": "python",
   "nbconvert_exporter": "python",
   "pygments_lexer": "ipython3",
   "version": "3.6.5"
  }
 },
 "nbformat": 4,
 "nbformat_minor": 2
}
