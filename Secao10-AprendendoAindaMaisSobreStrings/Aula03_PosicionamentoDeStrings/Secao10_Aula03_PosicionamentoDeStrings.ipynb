{
 "cells": [
  {
   "cell_type": "markdown",
   "metadata": {},
   "source": [
    "# CURSO PYTHON PARA TODOS"
   ]
  },
  {
   "cell_type": "markdown",
   "metadata": {},
   "source": [
    "https://www.udemy.com/python-3-para-todos"
   ]
  },
  {
   "cell_type": "raw",
   "metadata": {},
   "source": [
    "Evaldo Wolkers"
   ]
  },
  {
   "attachments": {},
   "cell_type": "markdown",
   "metadata": {},
   "source": [
    "## Aprendendo ainda mais sobre Strings"
   ]
  },
  {
   "cell_type": "markdown",
   "metadata": {},
   "source": [
    "## Posicionamento de Strings"
   ]
  },
  {
   "attachments": {},
   "cell_type": "markdown",
   "metadata": {},
   "source": [
    "Provavelmente você algum dia terá que apresentar o resultado do seu programa com strings alinhadas, tornando o resultado mais fácil de ler. Seja em um relatório ou simplesmente na saída do programa."
   ]
  },
  {
   "cell_type": "markdown",
   "metadata": {},
   "source": [
    "O método center centraliza uma string em um número de posições passado como parâmetro, preenchendo com espaços à direita e à esquerda, até que a string esteja centralizada. Podemos substituir os espaços por qualquer caracter informando como parâmetro para a função."
   ]
  },
  {
   "cell_type": "code",
   "execution_count": 1,
   "metadata": {},
   "outputs": [
    {
     "name": "stdout",
     "output_type": "stream",
     "text": [
      "   Olá    \n",
      "  Mundo   \n"
     ]
    }
   ],
   "source": [
    "Texto1 = \"Olá\"\n",
    "Texto2 = \"Mundo\"\n",
    "Texto3 = Texto1.center(10)\n",
    "Texto4 = Texto2.center(10)\n",
    "print(Texto3 + '\\n' + Texto4)"
   ]
  },
  {
   "cell_type": "code",
   "execution_count": 3,
   "metadata": {},
   "outputs": [
    {
     "name": "stdout",
     "output_type": "stream",
     "text": [
      "---Olá----\n",
      "--Mundo---\n"
     ]
    }
   ],
   "source": [
    "Texto3 = Texto1.center(10, '-')\n",
    "Texto4 = Texto2.center(10, '-')\n",
    "print(Texto3 + '\\n' + Texto4)"
   ]
  },
  {
   "attachments": {},
   "cell_type": "markdown",
   "metadata": {},
   "source": [
    "O Python também possui métodos para alinhar o texto à esquerda e à direita. São os métodos ljust e rjust. O método ljust alinha o texto à esquerda e preenche com espaços à direita, já o método rjust alinha o texto à direita e preenche com espaços à esquerda."
   ]
  },
  {
   "cell_type": "code",
   "execution_count": 4,
   "metadata": {},
   "outputs": [
    {
     "name": "stdout",
     "output_type": "stream",
     "text": [
      "*Olá  *\n",
      "*Mundo*\n",
      "*  Olá*\n",
      "*Mundo*\n"
     ]
    }
   ],
   "source": [
    "Texto3 = Texto1.ljust(5)\n",
    "print(f\"*{Texto3}*\\n*{Texto2}*\")\n",
    "Texto3 = Texto1.rjust(5)\n",
    "print(f\"*{Texto3}*\\n*{Texto2}*\")"
   ]
  },
  {
   "cell_type": "code",
   "execution_count": null,
   "metadata": {},
   "outputs": [],
   "source": []
  }
 ],
 "metadata": {
  "kernelspec": {
   "display_name": "Python 3",
   "language": "python",
   "name": "python3"
  },
  "language_info": {
   "codemirror_mode": {
    "name": "ipython",
    "version": 3
   },
   "file_extension": ".py",
   "mimetype": "text/x-python",
   "name": "python",
   "nbconvert_exporter": "python",
   "pygments_lexer": "ipython3",
   "version": "3.6.5"
  }
 },
 "nbformat": 4,
 "nbformat_minor": 2
}
