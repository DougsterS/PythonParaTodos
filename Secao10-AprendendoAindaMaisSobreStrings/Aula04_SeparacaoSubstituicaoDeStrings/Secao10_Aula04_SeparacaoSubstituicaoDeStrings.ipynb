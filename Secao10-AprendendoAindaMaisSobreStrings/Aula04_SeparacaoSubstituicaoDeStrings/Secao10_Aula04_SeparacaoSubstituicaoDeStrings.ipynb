{
 "cells": [
  {
   "cell_type": "markdown",
   "metadata": {},
   "source": [
    "# CURSO PYTHON PARA TODOS"
   ]
  },
  {
   "cell_type": "markdown",
   "metadata": {},
   "source": [
    "https://www.udemy.com/python-3-para-todos"
   ]
  },
  {
   "cell_type": "raw",
   "metadata": {},
   "source": [
    "Evaldo Wolkers"
   ]
  },
  {
   "cell_type": "markdown",
   "metadata": {},
   "source": [
    "## Aprendendo ainda mais sobre Strings"
   ]
  },
  {
   "cell_type": "markdown",
   "metadata": {},
   "source": [
    "## Separação, Substituição de Strings e Remoção de Espaços em Branco"
   ]
  },
  {
   "cell_type": "markdown",
   "metadata": {},
   "source": [
    "Para separar strings à partir de um determinado caractere podemos utilizar o método split. O resultado é uma lista com os itens que eram delimitados pelo caractere informado na chamada ao método split."
   ]
  },
  {
   "cell_type": "code",
   "execution_count": 1,
   "metadata": {},
   "outputs": [
    {
     "name": "stdout",
     "output_type": "stream",
     "text": [
      "['Não chores mais o erro cometido', 'Na fonte, há lodo', ' a rosa tem espinho', 'O sol no eclipse é sol obscurecido', 'Na flor também o inseto faz seu ninho', '']\n"
     ]
    }
   ],
   "source": [
    "soneto35ws = \"Não chores mais o erro cometido;Na fonte, há lodo; a rosa tem espinho;O sol no eclipse é sol obscurecido;Na flor também o inseto faz seu ninho;\"\n",
    "lista = soneto35ws.split(\";\")\n",
    "print(lista)"
   ]
  },
  {
   "cell_type": "markdown",
   "metadata": {},
   "source": [
    "Para separar strings à partir do caractere de nova linha “\\n” podemos usar o método splitlines."
   ]
  },
  {
   "cell_type": "code",
   "execution_count": 2,
   "metadata": {},
   "outputs": [
    {
     "name": "stdout",
     "output_type": "stream",
     "text": [
      "['Quando à corte silente do pensar', 'Eu convoco as lembranças do passado,', 'Suspiro pelo que ontem fui buscar,', 'Chorando o tempo já desperdiçado,']\n"
     ]
    }
   ],
   "source": [
    "soneto30ws = \"Quando à corte silente do pensar\\nEu convoco as lembranças do passado,\\nSuspiro pelo que ontem fui buscar,\\nChorando o tempo já desperdiçado,\"\n",
    "lista = soneto30ws.splitlines()\n",
    "print(lista)"
   ]
  },
  {
   "cell_type": "markdown",
   "metadata": {},
   "source": [
    "Para substituir trechos de uma string podemos usar o método replace. Este método recebe por parâmetro a string que será substituída, a nova string, e por fim um número que limitará a quantidade de substituições."
   ]
  },
  {
   "cell_type": "code",
   "execution_count": 3,
   "metadata": {},
   "outputs": [
    {
     "name": "stdout",
     "output_type": "stream",
     "text": [
      "Bicicleta é uma linguagem de programação. Bicicleta é simples. Bicicleta é organizado. Bicicleta é uma excelente linguagem.\n",
      "Chiclete é uma linguagem de programação. Chiclete é simples. Python é organizado. Python é uma excelente linguagem.\n"
     ]
    }
   ],
   "source": [
    "texto = \"Python é uma linguagem de programação. Python é simples. Python é organizado. Python é uma excelente linguagem.\"\n",
    "texto2 = texto.replace(\"Python\", \"Bicicleta\")\n",
    "print(texto2)\n",
    "texto2 = texto.replace(\"Python\", \"Chiclete\", 2)\n",
    "print(texto2)"
   ]
  },
  {
   "cell_type": "markdown",
   "metadata": {},
   "source": [
    "Se o primeiro parâmetro do replace for vazio, será inserido o caractere informado antes de cada caractere da string e se o segundo parâmetro for vazio, o trecho será apagado."
   ]
  },
  {
   "cell_type": "code",
   "execution_count": 5,
   "metadata": {},
   "outputs": [
    {
     "name": "stdout",
     "output_type": "stream",
     "text": [
      "*P*y*t*h*o*n* *é* *u*m*a* *l*i*n*g*u*a*g*e*m* *d*e* *p*r*o*g*r*a*m*a*ç*ã*o*.* *P*y*t*h*o*n* *é* *s*i*m*p*l*e*s*.* *P*y*t*h*o*n* *é* *o*r*g*a*n*i*z*a*d*o*.* *P*y*t*h*o*n* *é* *u*m*a* *e*x*c*e*l*e*n*t*e* *l*i*n*g*u*a*g*e*m*.*\n",
      " é uma linguagem de programação.  é simples.  é organizado.  é uma excelente linguagem.\n"
     ]
    }
   ],
   "source": [
    "texto = \"Python é uma linguagem de programação. Python é simples. Python é organizado. Python é uma excelente linguagem.\"\n",
    "texto2 = texto.replace(\"\", \"*\")\n",
    "print(texto2)\n",
    "texto2 = texto.replace(\"Python\", \"\")\n",
    "print(texto2)"
   ]
  },
  {
   "cell_type": "markdown",
   "metadata": {},
   "source": [
    "Para remover espaços em branco de uma string temos três métodos:\n",
    "Strip: Remove espaços no início e fim da string.\n",
    "Lstrip: Remove espaços no início da string.\n",
    "Rstrip: Remove espaços no fim da string.\n",
    "\n",
    "Você pode informar um caractere a remover em vez de remover os espaços em branco."
   ]
  },
  {
   "cell_type": "code",
   "execution_count": 6,
   "metadata": {},
   "outputs": [
    {
     "name": "stdout",
     "output_type": "stream",
     "text": [
      "*    Essa string tem espaços no início e no fim.    *\n",
      "*Essa string tem espaços no início e no fim.*\n",
      "*Essa string tem espaços no início e no fim.    *\n",
      "*    Essa string tem espaços no início e no fim.*\n"
     ]
    }
   ],
   "source": [
    "a = \"    Essa string tem espaços no início e no fim.    \"\n",
    "print(\"*\" + a + \"*\")\n",
    "b = a.strip()\n",
    "print(\"*\" + b + \"*\")\n",
    "\n",
    "b = a.lstrip()\n",
    "print(\"*\" + b + \"*\")\n",
    "\n",
    "b = a.rstrip()\n",
    "print(\"*\" + b + \"*\")"
   ]
  },
  {
   "cell_type": "code",
   "execution_count": 7,
   "metadata": {},
   "outputs": [
    {
     "name": "stdout",
     "output_type": "stream",
     "text": [
      "Olá mundo!\n",
      "Olá mundo!---------\n",
      "-----Olá mundo!\n"
     ]
    }
   ],
   "source": [
    "a = \"-----Olá mundo!---------\"\n",
    "b = a.strip(\"-\")\n",
    "print(b)\n",
    "\n",
    "b = a.lstrip(\"-\")\n",
    "print(b)\n",
    "\n",
    "b = a.rstrip(\"-\")\n",
    "print(b)\n"
   ]
  },
  {
   "cell_type": "code",
   "execution_count": null,
   "metadata": {},
   "outputs": [],
   "source": []
  }
 ],
 "metadata": {
  "kernelspec": {
   "display_name": "Python 3",
   "language": "python",
   "name": "python3"
  },
  "language_info": {
   "codemirror_mode": {
    "name": "ipython",
    "version": 3
   },
   "file_extension": ".py",
   "mimetype": "text/x-python",
   "name": "python",
   "nbconvert_exporter": "python",
   "pygments_lexer": "ipython3",
   "version": "3.6.5"
  }
 },
 "nbformat": 4,
 "nbformat_minor": 2
}
